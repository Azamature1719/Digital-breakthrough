{
  "nbformat": 4,
  "nbformat_minor": 0,
  "metadata": {
    "colab": {
      "name": "Цифровой прорыв ",
      "provenance": [],
      "collapsed_sections": []
    },
    "kernelspec": {
      "name": "python3",
      "display_name": "Python 3"
    }
  },
  "cells": [
    {
      "cell_type": "markdown",
      "metadata": {
        "id": "2ClndCbUERMm",
        "colab_type": "text"
      },
      "source": [
        "**Реализация**"
      ]
    },
    {
      "cell_type": "code",
      "metadata": {
        "id": "QeMeSOSxEQhq",
        "colab_type": "code",
        "colab": {
          "base_uri": "https://localhost:8080/",
          "height": 122
        },
        "outputId": "3149588a-99b1-4e79-b83f-c57ab4ee0635"
      },
      "source": [
        "import pandas as pd\n",
        "import matplotlib.pyplot as plt\n",
        "import numpy as np\n",
        "from google.colab import drive\n",
        "\n",
        "drive.mount('/content/drive')"
      ],
      "execution_count": 2,
      "outputs": [
        {
          "output_type": "stream",
          "text": [
            "Go to this URL in a browser: https://accounts.google.com/o/oauth2/auth?client_id=947318989803-6bn6qk8qdgf4n4g3pfee6491hc0brc4i.apps.googleusercontent.com&redirect_uri=urn%3aietf%3awg%3aoauth%3a2.0%3aoob&scope=email%20https%3a%2f%2fwww.googleapis.com%2fauth%2fdocs.test%20https%3a%2f%2fwww.googleapis.com%2fauth%2fdrive%20https%3a%2f%2fwww.googleapis.com%2fauth%2fdrive.photos.readonly%20https%3a%2f%2fwww.googleapis.com%2fauth%2fpeopleapi.readonly&response_type=code\n",
            "\n",
            "Enter your authorization code:\n",
            "··········\n",
            "Mounted at /content/drive\n"
          ],
          "name": "stdout"
        }
      ]
    },
    {
      "cell_type": "code",
      "metadata": {
        "id": "HXQe-v6bHyHS",
        "colab_type": "code",
        "colab": {
          "base_uri": "https://localhost:8080/",
          "height": 323
        },
        "outputId": "6f95ebd6-e523-4a01-c24a-b69daac79c3d"
      },
      "source": [
        "data = pd.read_csv(\"/content/drive/My Drive/CSV/Батч-1.csv\")\n",
        "data.head()"
      ],
      "execution_count": 3,
      "outputs": [
        {
          "output_type": "execute_result",
          "data": {
            "text/html": [
              "<div>\n",
              "<style scoped>\n",
              "    .dataframe tbody tr th:only-of-type {\n",
              "        vertical-align: middle;\n",
              "    }\n",
              "\n",
              "    .dataframe tbody tr th {\n",
              "        vertical-align: top;\n",
              "    }\n",
              "\n",
              "    .dataframe thead th {\n",
              "        text-align: right;\n",
              "    }\n",
              "</style>\n",
              "<table border=\"1\" class=\"dataframe\">\n",
              "  <thead>\n",
              "    <tr style=\"text-align: right;\">\n",
              "      <th></th>\n",
              "      <th>hid</th>\n",
              "      <th>дата оформления</th>\n",
              "      <th>индекс отправителя</th>\n",
              "      <th>индекс получателя</th>\n",
              "      <th>вес (гр)</th>\n",
              "      <th>стоимость (руб,коп)</th>\n",
              "      <th>сумма ОЦ (руб)</th>\n",
              "      <th>сумма НП (руб)</th>\n",
              "      <th>безбланковая отправка</th>\n",
              "      <th>бандероль</th>\n",
              "      <th>ускоренное</th>\n",
              "      <th>международное</th>\n",
              "      <th>с объявл. ценностью</th>\n",
              "      <th>с налож. платежом</th>\n",
              "      <th>с описью вложений</th>\n",
              "      <th>отметка 'Осторожно'</th>\n",
              "      <th>sms для отправителя</th>\n",
              "      <th>sms для получателя</th>\n",
              "    </tr>\n",
              "  </thead>\n",
              "  <tbody>\n",
              "    <tr>\n",
              "      <th>0</th>\n",
              "      <td>17279630-2e29-4a0d-8f96-f3c932e6bbcb</td>\n",
              "      <td>2020-07-05 00:00:26.036000</td>\n",
              "      <td>109469</td>\n",
              "      <td>107241</td>\n",
              "      <td>100.0</td>\n",
              "      <td>173.0</td>\n",
              "      <td>NaN</td>\n",
              "      <td>NaN</td>\n",
              "      <td>False</td>\n",
              "      <td>False</td>\n",
              "      <td>True</td>\n",
              "      <td>False</td>\n",
              "      <td>False</td>\n",
              "      <td>False</td>\n",
              "      <td>False</td>\n",
              "      <td>NaN</td>\n",
              "      <td>False</td>\n",
              "      <td>False</td>\n",
              "    </tr>\n",
              "    <tr>\n",
              "      <th>1</th>\n",
              "      <td>16971e43-728a-4f66-a93c-3678aa8433cd</td>\n",
              "      <td>2020-07-05 00:03:17.229000</td>\n",
              "      <td>390039</td>\n",
              "      <td>125284</td>\n",
              "      <td>1100.0</td>\n",
              "      <td>238.0</td>\n",
              "      <td>NaN</td>\n",
              "      <td>NaN</td>\n",
              "      <td>True</td>\n",
              "      <td>False</td>\n",
              "      <td>False</td>\n",
              "      <td>False</td>\n",
              "      <td>False</td>\n",
              "      <td>False</td>\n",
              "      <td>False</td>\n",
              "      <td>NaN</td>\n",
              "      <td>False</td>\n",
              "      <td>False</td>\n",
              "    </tr>\n",
              "    <tr>\n",
              "      <th>2</th>\n",
              "      <td>16d739fa-ca72-4b12-b8a1-ae5d91df945f</td>\n",
              "      <td>2020-07-05 00:11:47.671000</td>\n",
              "      <td>111250</td>\n",
              "      <td>670033</td>\n",
              "      <td>100.0</td>\n",
              "      <td>173.0</td>\n",
              "      <td>NaN</td>\n",
              "      <td>NaN</td>\n",
              "      <td>True</td>\n",
              "      <td>False</td>\n",
              "      <td>True</td>\n",
              "      <td>False</td>\n",
              "      <td>False</td>\n",
              "      <td>False</td>\n",
              "      <td>False</td>\n",
              "      <td>NaN</td>\n",
              "      <td>False</td>\n",
              "      <td>False</td>\n",
              "    </tr>\n",
              "    <tr>\n",
              "      <th>3</th>\n",
              "      <td>8182829</td>\n",
              "      <td>2020-07-05 00:12:50.965000</td>\n",
              "      <td>105173</td>\n",
              "      <td>183035</td>\n",
              "      <td>2262.0</td>\n",
              "      <td>363.0</td>\n",
              "      <td>NaN</td>\n",
              "      <td>NaN</td>\n",
              "      <td>False</td>\n",
              "      <td>False</td>\n",
              "      <td>False</td>\n",
              "      <td>False</td>\n",
              "      <td>False</td>\n",
              "      <td>False</td>\n",
              "      <td>False</td>\n",
              "      <td>NaN</td>\n",
              "      <td>False</td>\n",
              "      <td>False</td>\n",
              "    </tr>\n",
              "    <tr>\n",
              "      <th>4</th>\n",
              "      <td>1645b790-f6f9-4c3f-b92b-eae34e781784</td>\n",
              "      <td>2020-07-05 00:13:05.474000</td>\n",
              "      <td>195197</td>\n",
              "      <td>184209</td>\n",
              "      <td>1905.0</td>\n",
              "      <td>338.0</td>\n",
              "      <td>NaN</td>\n",
              "      <td>NaN</td>\n",
              "      <td>False</td>\n",
              "      <td>False</td>\n",
              "      <td>False</td>\n",
              "      <td>False</td>\n",
              "      <td>False</td>\n",
              "      <td>False</td>\n",
              "      <td>False</td>\n",
              "      <td>NaN</td>\n",
              "      <td>False</td>\n",
              "      <td>False</td>\n",
              "    </tr>\n",
              "  </tbody>\n",
              "</table>\n",
              "</div>"
            ],
            "text/plain": [
              "                                    hid  ... sms для получателя\n",
              "0  17279630-2e29-4a0d-8f96-f3c932e6bbcb  ...              False\n",
              "1  16971e43-728a-4f66-a93c-3678aa8433cd  ...              False\n",
              "2  16d739fa-ca72-4b12-b8a1-ae5d91df945f  ...              False\n",
              "3                               8182829  ...              False\n",
              "4  1645b790-f6f9-4c3f-b92b-eae34e781784  ...              False\n",
              "\n",
              "[5 rows x 18 columns]"
            ]
          },
          "metadata": {
            "tags": []
          },
          "execution_count": 3
        }
      ]
    },
    {
      "cell_type": "code",
      "metadata": {
        "id": "7pQu2cgcJuGF",
        "colab_type": "code",
        "colab": {
          "base_uri": "https://localhost:8080/",
          "height": 810
        },
        "outputId": "3c118d03-9629-459f-ef0e-1335c4068b34"
      },
      "source": [
        "data_without_form = data.drop('дата оформления', axis = 1) #Убрали дату оформления\n",
        "print(data_without_form[data_without_form['международное'] == True].size) # Международного не было\n",
        "print(data_without_form[data_without_form['безбланковая отправка'] == True].size) # Международного не было\n",
        "print(data_without_form['безбланковая отправка'] == True)\n",
        "\n",
        "\n",
        "data_no_nan = data_without_form.fillna(0) #Убрали все NaN\n",
        "data_no_nan"
      ],
      "execution_count": 61,
      "outputs": [
        {
          "output_type": "stream",
          "text": [
            "0\n",
            "2353514\n",
            "0         False\n",
            "1          True\n",
            "2          True\n",
            "3         False\n",
            "4         False\n",
            "          ...  \n",
            "188465     True\n",
            "188466    False\n",
            "188467     True\n",
            "188468     True\n",
            "188469     True\n",
            "Name: безбланковая отправка, Length: 188470, dtype: bool\n"
          ],
          "name": "stdout"
        },
        {
          "output_type": "execute_result",
          "data": {
            "text/html": [
              "<div>\n",
              "<style scoped>\n",
              "    .dataframe tbody tr th:only-of-type {\n",
              "        vertical-align: middle;\n",
              "    }\n",
              "\n",
              "    .dataframe tbody tr th {\n",
              "        vertical-align: top;\n",
              "    }\n",
              "\n",
              "    .dataframe thead th {\n",
              "        text-align: right;\n",
              "    }\n",
              "</style>\n",
              "<table border=\"1\" class=\"dataframe\">\n",
              "  <thead>\n",
              "    <tr style=\"text-align: right;\">\n",
              "      <th></th>\n",
              "      <th>hid</th>\n",
              "      <th>индекс отправителя</th>\n",
              "      <th>индекс получателя</th>\n",
              "      <th>вес (гр)</th>\n",
              "      <th>стоимость (руб,коп)</th>\n",
              "      <th>сумма ОЦ (руб)</th>\n",
              "      <th>сумма НП (руб)</th>\n",
              "      <th>безбланковая отправка</th>\n",
              "      <th>бандероль</th>\n",
              "      <th>ускоренное</th>\n",
              "      <th>международное</th>\n",
              "      <th>с объявл. ценностью</th>\n",
              "      <th>с налож. платежом</th>\n",
              "      <th>с описью вложений</th>\n",
              "      <th>отметка 'Осторожно'</th>\n",
              "      <th>sms для отправителя</th>\n",
              "      <th>sms для получателя</th>\n",
              "    </tr>\n",
              "  </thead>\n",
              "  <tbody>\n",
              "    <tr>\n",
              "      <th>0</th>\n",
              "      <td>17279630-2e29-4a0d-8f96-f3c932e6bbcb</td>\n",
              "      <td>109469</td>\n",
              "      <td>107241</td>\n",
              "      <td>100.0</td>\n",
              "      <td>173.0</td>\n",
              "      <td>0.0</td>\n",
              "      <td>0.0</td>\n",
              "      <td>False</td>\n",
              "      <td>False</td>\n",
              "      <td>True</td>\n",
              "      <td>False</td>\n",
              "      <td>False</td>\n",
              "      <td>False</td>\n",
              "      <td>False</td>\n",
              "      <td>0</td>\n",
              "      <td>False</td>\n",
              "      <td>False</td>\n",
              "    </tr>\n",
              "    <tr>\n",
              "      <th>1</th>\n",
              "      <td>16971e43-728a-4f66-a93c-3678aa8433cd</td>\n",
              "      <td>390039</td>\n",
              "      <td>125284</td>\n",
              "      <td>1100.0</td>\n",
              "      <td>238.0</td>\n",
              "      <td>0.0</td>\n",
              "      <td>0.0</td>\n",
              "      <td>True</td>\n",
              "      <td>False</td>\n",
              "      <td>False</td>\n",
              "      <td>False</td>\n",
              "      <td>False</td>\n",
              "      <td>False</td>\n",
              "      <td>False</td>\n",
              "      <td>0</td>\n",
              "      <td>False</td>\n",
              "      <td>False</td>\n",
              "    </tr>\n",
              "    <tr>\n",
              "      <th>2</th>\n",
              "      <td>16d739fa-ca72-4b12-b8a1-ae5d91df945f</td>\n",
              "      <td>111250</td>\n",
              "      <td>670033</td>\n",
              "      <td>100.0</td>\n",
              "      <td>173.0</td>\n",
              "      <td>0.0</td>\n",
              "      <td>0.0</td>\n",
              "      <td>True</td>\n",
              "      <td>False</td>\n",
              "      <td>True</td>\n",
              "      <td>False</td>\n",
              "      <td>False</td>\n",
              "      <td>False</td>\n",
              "      <td>False</td>\n",
              "      <td>0</td>\n",
              "      <td>False</td>\n",
              "      <td>False</td>\n",
              "    </tr>\n",
              "    <tr>\n",
              "      <th>3</th>\n",
              "      <td>8182829</td>\n",
              "      <td>105173</td>\n",
              "      <td>183035</td>\n",
              "      <td>2262.0</td>\n",
              "      <td>363.0</td>\n",
              "      <td>0.0</td>\n",
              "      <td>0.0</td>\n",
              "      <td>False</td>\n",
              "      <td>False</td>\n",
              "      <td>False</td>\n",
              "      <td>False</td>\n",
              "      <td>False</td>\n",
              "      <td>False</td>\n",
              "      <td>False</td>\n",
              "      <td>0</td>\n",
              "      <td>False</td>\n",
              "      <td>False</td>\n",
              "    </tr>\n",
              "    <tr>\n",
              "      <th>4</th>\n",
              "      <td>1645b790-f6f9-4c3f-b92b-eae34e781784</td>\n",
              "      <td>195197</td>\n",
              "      <td>184209</td>\n",
              "      <td>1905.0</td>\n",
              "      <td>338.0</td>\n",
              "      <td>0.0</td>\n",
              "      <td>0.0</td>\n",
              "      <td>False</td>\n",
              "      <td>False</td>\n",
              "      <td>False</td>\n",
              "      <td>False</td>\n",
              "      <td>False</td>\n",
              "      <td>False</td>\n",
              "      <td>False</td>\n",
              "      <td>0</td>\n",
              "      <td>False</td>\n",
              "      <td>False</td>\n",
              "    </tr>\n",
              "    <tr>\n",
              "      <th>...</th>\n",
              "      <td>...</td>\n",
              "      <td>...</td>\n",
              "      <td>...</td>\n",
              "      <td>...</td>\n",
              "      <td>...</td>\n",
              "      <td>...</td>\n",
              "      <td>...</td>\n",
              "      <td>...</td>\n",
              "      <td>...</td>\n",
              "      <td>...</td>\n",
              "      <td>...</td>\n",
              "      <td>...</td>\n",
              "      <td>...</td>\n",
              "      <td>...</td>\n",
              "      <td>...</td>\n",
              "      <td>...</td>\n",
              "      <td>...</td>\n",
              "    </tr>\n",
              "    <tr>\n",
              "      <th>188465</th>\n",
              "      <td>169b12c7-6ed1-4713-92a7-07c87e8fd91b</td>\n",
              "      <td>140013</td>\n",
              "      <td>196244</td>\n",
              "      <td>1000.0</td>\n",
              "      <td>288.0</td>\n",
              "      <td>0.0</td>\n",
              "      <td>0.0</td>\n",
              "      <td>True</td>\n",
              "      <td>False</td>\n",
              "      <td>False</td>\n",
              "      <td>False</td>\n",
              "      <td>False</td>\n",
              "      <td>False</td>\n",
              "      <td>False</td>\n",
              "      <td>0</td>\n",
              "      <td>False</td>\n",
              "      <td>False</td>\n",
              "    </tr>\n",
              "    <tr>\n",
              "      <th>188466</th>\n",
              "      <td>799282</td>\n",
              "      <td>630133</td>\n",
              "      <td>601505</td>\n",
              "      <td>300.0</td>\n",
              "      <td>350.0</td>\n",
              "      <td>0.0</td>\n",
              "      <td>0.0</td>\n",
              "      <td>False</td>\n",
              "      <td>False</td>\n",
              "      <td>True</td>\n",
              "      <td>False</td>\n",
              "      <td>False</td>\n",
              "      <td>False</td>\n",
              "      <td>False</td>\n",
              "      <td>0</td>\n",
              "      <td>False</td>\n",
              "      <td>False</td>\n",
              "    </tr>\n",
              "    <tr>\n",
              "      <th>188467</th>\n",
              "      <td>171c313b-96a4-4439-be13-40ce794139c3</td>\n",
              "      <td>680017</td>\n",
              "      <td>680017</td>\n",
              "      <td>100.0</td>\n",
              "      <td>293.0</td>\n",
              "      <td>0.0</td>\n",
              "      <td>0.0</td>\n",
              "      <td>True</td>\n",
              "      <td>False</td>\n",
              "      <td>False</td>\n",
              "      <td>False</td>\n",
              "      <td>False</td>\n",
              "      <td>False</td>\n",
              "      <td>False</td>\n",
              "      <td>0</td>\n",
              "      <td>False</td>\n",
              "      <td>False</td>\n",
              "    </tr>\n",
              "    <tr>\n",
              "      <th>188468</th>\n",
              "      <td>171c313b-96a4-4439-be13-40ce794139c3</td>\n",
              "      <td>680017</td>\n",
              "      <td>680017</td>\n",
              "      <td>100.0</td>\n",
              "      <td>293.0</td>\n",
              "      <td>0.0</td>\n",
              "      <td>0.0</td>\n",
              "      <td>True</td>\n",
              "      <td>False</td>\n",
              "      <td>False</td>\n",
              "      <td>False</td>\n",
              "      <td>False</td>\n",
              "      <td>False</td>\n",
              "      <td>False</td>\n",
              "      <td>0</td>\n",
              "      <td>False</td>\n",
              "      <td>False</td>\n",
              "    </tr>\n",
              "    <tr>\n",
              "      <th>188469</th>\n",
              "      <td>171c313b-96a4-4439-be13-40ce794139c3</td>\n",
              "      <td>680017</td>\n",
              "      <td>680017</td>\n",
              "      <td>100.0</td>\n",
              "      <td>293.0</td>\n",
              "      <td>0.0</td>\n",
              "      <td>0.0</td>\n",
              "      <td>True</td>\n",
              "      <td>False</td>\n",
              "      <td>False</td>\n",
              "      <td>False</td>\n",
              "      <td>False</td>\n",
              "      <td>False</td>\n",
              "      <td>False</td>\n",
              "      <td>0</td>\n",
              "      <td>False</td>\n",
              "      <td>False</td>\n",
              "    </tr>\n",
              "  </tbody>\n",
              "</table>\n",
              "<p>188470 rows × 17 columns</p>\n",
              "</div>"
            ],
            "text/plain": [
              "                                         hid  ...  sms для получателя\n",
              "0       17279630-2e29-4a0d-8f96-f3c932e6bbcb  ...               False\n",
              "1       16971e43-728a-4f66-a93c-3678aa8433cd  ...               False\n",
              "2       16d739fa-ca72-4b12-b8a1-ae5d91df945f  ...               False\n",
              "3                                    8182829  ...               False\n",
              "4       1645b790-f6f9-4c3f-b92b-eae34e781784  ...               False\n",
              "...                                      ...  ...                 ...\n",
              "188465  169b12c7-6ed1-4713-92a7-07c87e8fd91b  ...               False\n",
              "188466                                799282  ...               False\n",
              "188467  171c313b-96a4-4439-be13-40ce794139c3  ...               False\n",
              "188468  171c313b-96a4-4439-be13-40ce794139c3  ...               False\n",
              "188469  171c313b-96a4-4439-be13-40ce794139c3  ...               False\n",
              "\n",
              "[188470 rows x 17 columns]"
            ]
          },
          "metadata": {
            "tags": []
          },
          "execution_count": 61
        }
      ]
    },
    {
      "cell_type": "code",
      "metadata": {
        "id": "4bdh9fXVIY0Y",
        "colab_type": "code",
        "colab": {
          "base_uri": "https://localhost:8080/",
          "height": 136
        },
        "outputId": "8b97368c-770f-4b18-89af-f16d62c1e120"
      },
      "source": [
        "from sklearn.preprocessing import StandardScaler\n",
        "import numpy as np\n",
        "\n",
        "data_in_array = np.array(data_no_nan.values[:, 3:]) #Сформировали список списков по строкам\n",
        "data_in_array\n",
        "\n",
        "#Clus_dataSet = StandardScaler().fit_transform(data_without_nan) #Нормирует данные \n",
        "#Clus_dataSet"
      ],
      "execution_count": 5,
      "outputs": [
        {
          "output_type": "execute_result",
          "data": {
            "text/plain": [
              "array([[100.0, 173.0, 0.0, ..., 0, False, False],\n",
              "       [1100.0, 238.0, 0.0, ..., 0, False, False],\n",
              "       [100.0, 173.0, 0.0, ..., 0, False, False],\n",
              "       ...,\n",
              "       [100.0, 293.0, 0.0, ..., 0, False, False],\n",
              "       [100.0, 293.0, 0.0, ..., 0, False, False],\n",
              "       [100.0, 293.0, 0.0, ..., 0, False, False]], dtype=object)"
            ]
          },
          "metadata": {
            "tags": []
          },
          "execution_count": 5
        }
      ]
    },
    {
      "cell_type": "markdown",
      "metadata": {
        "id": "buOQlyGRX6Ic",
        "colab_type": "text"
      },
      "source": [
        "**Деление по кластерам в лоб**"
      ]
    },
    {
      "cell_type": "markdown",
      "metadata": {
        "id": "GiQl3AZTorM7",
        "colab_type": "text"
      },
      "source": [
        "**3 кластера**\n"
      ]
    },
    {
      "cell_type": "code",
      "metadata": {
        "id": "iRDDtzQJJs_Q",
        "colab_type": "code",
        "colab": {
          "base_uri": "https://localhost:8080/",
          "height": 34
        },
        "outputId": "c3ae1ddf-faec-4849-b447-600568755a47"
      },
      "source": [
        "from sklearn.cluster import KMeans\n",
        "clusterNum = 3\n",
        "k_means = KMeans(init = \"k-means++\", n_clusters = clusterNum, n_init = 12) # Способ определения центроид, кол-во кластеров, кол-во итераций алгоритма \n",
        "k_means.fit(data_in_array)\n",
        "labels3 = k_means.labels_\n",
        "print(labels3)"
      ],
      "execution_count": 27,
      "outputs": [
        {
          "output_type": "stream",
          "text": [
            "[0 0 0 ... 0 0 0]\n"
          ],
          "name": "stdout"
        }
      ]
    },
    {
      "cell_type": "markdown",
      "metadata": {
        "id": "YNgNWpAAShWr",
        "colab_type": "text"
      },
      "source": [
        "Каждому пользователю в таблице присвоили номер кластера\n",
        "\n"
      ]
    },
    {
      "cell_type": "code",
      "metadata": {
        "id": "gwAZtm5mRnxC",
        "colab_type": "code",
        "colab": {
          "base_uri": "https://localhost:8080/",
          "height": 289
        },
        "outputId": "9d8655b5-c53c-479e-d8a0-bb6ccb4bf8d5"
      },
      "source": [
        "data_no_nan3 = data_no_nan\n",
        "data_no_nan3[\"Кластер\"] = labels3\n",
        "data_no_nan3.head()"
      ],
      "execution_count": 28,
      "outputs": [
        {
          "output_type": "execute_result",
          "data": {
            "text/html": [
              "<div>\n",
              "<style scoped>\n",
              "    .dataframe tbody tr th:only-of-type {\n",
              "        vertical-align: middle;\n",
              "    }\n",
              "\n",
              "    .dataframe tbody tr th {\n",
              "        vertical-align: top;\n",
              "    }\n",
              "\n",
              "    .dataframe thead th {\n",
              "        text-align: right;\n",
              "    }\n",
              "</style>\n",
              "<table border=\"1\" class=\"dataframe\">\n",
              "  <thead>\n",
              "    <tr style=\"text-align: right;\">\n",
              "      <th></th>\n",
              "      <th>hid</th>\n",
              "      <th>индекс отправителя</th>\n",
              "      <th>индекс получателя</th>\n",
              "      <th>вес (гр)</th>\n",
              "      <th>стоимость (руб,коп)</th>\n",
              "      <th>сумма ОЦ (руб)</th>\n",
              "      <th>сумма НП (руб)</th>\n",
              "      <th>безбланковая отправка</th>\n",
              "      <th>бандероль</th>\n",
              "      <th>ускоренное</th>\n",
              "      <th>международное</th>\n",
              "      <th>с объявл. ценностью</th>\n",
              "      <th>с налож. платежом</th>\n",
              "      <th>с описью вложений</th>\n",
              "      <th>отметка 'Осторожно'</th>\n",
              "      <th>sms для отправителя</th>\n",
              "      <th>sms для получателя</th>\n",
              "      <th>Кластер</th>\n",
              "    </tr>\n",
              "  </thead>\n",
              "  <tbody>\n",
              "    <tr>\n",
              "      <th>0</th>\n",
              "      <td>17279630-2e29-4a0d-8f96-f3c932e6bbcb</td>\n",
              "      <td>109469</td>\n",
              "      <td>107241</td>\n",
              "      <td>100.0</td>\n",
              "      <td>173.0</td>\n",
              "      <td>0.0</td>\n",
              "      <td>0.0</td>\n",
              "      <td>False</td>\n",
              "      <td>False</td>\n",
              "      <td>True</td>\n",
              "      <td>False</td>\n",
              "      <td>False</td>\n",
              "      <td>False</td>\n",
              "      <td>False</td>\n",
              "      <td>0</td>\n",
              "      <td>False</td>\n",
              "      <td>False</td>\n",
              "      <td>0</td>\n",
              "    </tr>\n",
              "    <tr>\n",
              "      <th>1</th>\n",
              "      <td>16971e43-728a-4f66-a93c-3678aa8433cd</td>\n",
              "      <td>390039</td>\n",
              "      <td>125284</td>\n",
              "      <td>1100.0</td>\n",
              "      <td>238.0</td>\n",
              "      <td>0.0</td>\n",
              "      <td>0.0</td>\n",
              "      <td>True</td>\n",
              "      <td>False</td>\n",
              "      <td>False</td>\n",
              "      <td>False</td>\n",
              "      <td>False</td>\n",
              "      <td>False</td>\n",
              "      <td>False</td>\n",
              "      <td>0</td>\n",
              "      <td>False</td>\n",
              "      <td>False</td>\n",
              "      <td>0</td>\n",
              "    </tr>\n",
              "    <tr>\n",
              "      <th>2</th>\n",
              "      <td>16d739fa-ca72-4b12-b8a1-ae5d91df945f</td>\n",
              "      <td>111250</td>\n",
              "      <td>670033</td>\n",
              "      <td>100.0</td>\n",
              "      <td>173.0</td>\n",
              "      <td>0.0</td>\n",
              "      <td>0.0</td>\n",
              "      <td>True</td>\n",
              "      <td>False</td>\n",
              "      <td>True</td>\n",
              "      <td>False</td>\n",
              "      <td>False</td>\n",
              "      <td>False</td>\n",
              "      <td>False</td>\n",
              "      <td>0</td>\n",
              "      <td>False</td>\n",
              "      <td>False</td>\n",
              "      <td>0</td>\n",
              "    </tr>\n",
              "    <tr>\n",
              "      <th>3</th>\n",
              "      <td>8182829</td>\n",
              "      <td>105173</td>\n",
              "      <td>183035</td>\n",
              "      <td>2262.0</td>\n",
              "      <td>363.0</td>\n",
              "      <td>0.0</td>\n",
              "      <td>0.0</td>\n",
              "      <td>False</td>\n",
              "      <td>False</td>\n",
              "      <td>False</td>\n",
              "      <td>False</td>\n",
              "      <td>False</td>\n",
              "      <td>False</td>\n",
              "      <td>False</td>\n",
              "      <td>0</td>\n",
              "      <td>False</td>\n",
              "      <td>False</td>\n",
              "      <td>0</td>\n",
              "    </tr>\n",
              "    <tr>\n",
              "      <th>4</th>\n",
              "      <td>1645b790-f6f9-4c3f-b92b-eae34e781784</td>\n",
              "      <td>195197</td>\n",
              "      <td>184209</td>\n",
              "      <td>1905.0</td>\n",
              "      <td>338.0</td>\n",
              "      <td>0.0</td>\n",
              "      <td>0.0</td>\n",
              "      <td>False</td>\n",
              "      <td>False</td>\n",
              "      <td>False</td>\n",
              "      <td>False</td>\n",
              "      <td>False</td>\n",
              "      <td>False</td>\n",
              "      <td>False</td>\n",
              "      <td>0</td>\n",
              "      <td>False</td>\n",
              "      <td>False</td>\n",
              "      <td>0</td>\n",
              "    </tr>\n",
              "  </tbody>\n",
              "</table>\n",
              "</div>"
            ],
            "text/plain": [
              "                                    hid  ...  Кластер\n",
              "0  17279630-2e29-4a0d-8f96-f3c932e6bbcb  ...        0\n",
              "1  16971e43-728a-4f66-a93c-3678aa8433cd  ...        0\n",
              "2  16d739fa-ca72-4b12-b8a1-ae5d91df945f  ...        0\n",
              "3                               8182829  ...        0\n",
              "4  1645b790-f6f9-4c3f-b92b-eae34e781784  ...        0\n",
              "\n",
              "[5 rows x 18 columns]"
            ]
          },
          "metadata": {
            "tags": []
          },
          "execution_count": 28
        }
      ]
    },
    {
      "cell_type": "code",
      "metadata": {
        "id": "Tu41rhbuTJ3m",
        "colab_type": "code",
        "colab": {
          "base_uri": "https://localhost:8080/",
          "height": 173
        },
        "outputId": "1e806557-a52c-4120-f581-2d3102fac4b6"
      },
      "source": [
        "data_no_nan3.groupby('Кластер').mean() # Среднее значение для каждого кластера по каждой"
      ],
      "execution_count": 29,
      "outputs": [
        {
          "output_type": "execute_result",
          "data": {
            "text/html": [
              "<div>\n",
              "<style scoped>\n",
              "    .dataframe tbody tr th:only-of-type {\n",
              "        vertical-align: middle;\n",
              "    }\n",
              "\n",
              "    .dataframe tbody tr th {\n",
              "        vertical-align: top;\n",
              "    }\n",
              "\n",
              "    .dataframe thead th {\n",
              "        text-align: right;\n",
              "    }\n",
              "</style>\n",
              "<table border=\"1\" class=\"dataframe\">\n",
              "  <thead>\n",
              "    <tr style=\"text-align: right;\">\n",
              "      <th></th>\n",
              "      <th>индекс отправителя</th>\n",
              "      <th>индекс получателя</th>\n",
              "      <th>вес (гр)</th>\n",
              "      <th>стоимость (руб,коп)</th>\n",
              "      <th>сумма ОЦ (руб)</th>\n",
              "      <th>сумма НП (руб)</th>\n",
              "      <th>безбланковая отправка</th>\n",
              "      <th>ускоренное</th>\n",
              "      <th>международное</th>\n",
              "      <th>с налож. платежом</th>\n",
              "    </tr>\n",
              "    <tr>\n",
              "      <th>Кластер</th>\n",
              "      <th></th>\n",
              "      <th></th>\n",
              "      <th></th>\n",
              "      <th></th>\n",
              "      <th></th>\n",
              "      <th></th>\n",
              "      <th></th>\n",
              "      <th></th>\n",
              "      <th></th>\n",
              "      <th></th>\n",
              "    </tr>\n",
              "  </thead>\n",
              "  <tbody>\n",
              "    <tr>\n",
              "      <th>0</th>\n",
              "      <td>347011.677912</td>\n",
              "      <td>396258.257718</td>\n",
              "      <td>973.530812</td>\n",
              "      <td>312.270921</td>\n",
              "      <td>186.992818</td>\n",
              "      <td>120.897570</td>\n",
              "      <td>0.702382</td>\n",
              "      <td>0.195147</td>\n",
              "      <td>0.0</td>\n",
              "      <td>0.071365</td>\n",
              "    </tr>\n",
              "    <tr>\n",
              "      <th>1</th>\n",
              "      <td>290797.643196</td>\n",
              "      <td>463186.045013</td>\n",
              "      <td>1243.136830</td>\n",
              "      <td>597.670608</td>\n",
              "      <td>5740.733636</td>\n",
              "      <td>5310.160121</td>\n",
              "      <td>0.813958</td>\n",
              "      <td>0.221695</td>\n",
              "      <td>0.0</td>\n",
              "      <td>0.966618</td>\n",
              "    </tr>\n",
              "    <tr>\n",
              "      <th>2</th>\n",
              "      <td>377080.577793</td>\n",
              "      <td>414146.278913</td>\n",
              "      <td>7633.744159</td>\n",
              "      <td>834.945957</td>\n",
              "      <td>257.765007</td>\n",
              "      <td>38.883468</td>\n",
              "      <td>0.888754</td>\n",
              "      <td>0.000000</td>\n",
              "      <td>0.0</td>\n",
              "      <td>0.017283</td>\n",
              "    </tr>\n",
              "  </tbody>\n",
              "</table>\n",
              "</div>"
            ],
            "text/plain": [
              "         индекс отправителя  ...  с налож. платежом\n",
              "Кластер                      ...                   \n",
              "0             347011.677912  ...           0.071365\n",
              "1             290797.643196  ...           0.966618\n",
              "2             377080.577793  ...           0.017283\n",
              "\n",
              "[3 rows x 10 columns]"
            ]
          },
          "metadata": {
            "tags": []
          },
          "execution_count": 29
        }
      ]
    },
    {
      "cell_type": "code",
      "metadata": {
        "id": "Chbgy9v4eEdf",
        "colab_type": "code",
        "colab": {
          "base_uri": "https://localhost:8080/",
          "height": 500
        },
        "outputId": "28e8e202-926e-46ca-c374-f9f8c3052d65"
      },
      "source": [
        "data_no_nan3[['вес (гр)', 'Кластер']].plot(kind='hist', x='вес (гр)', y ='Кластер',figsize=(12,8))\n",
        "data_no_nan3[data_no_nan3['международное'] == True].size"
      ],
      "execution_count": 46,
      "outputs": [
        {
          "output_type": "execute_result",
          "data": {
            "text/plain": [
              "0"
            ]
          },
          "metadata": {
            "tags": []
          },
          "execution_count": 46
        },
        {
          "output_type": "display_data",
          "data": {
            "image/png": "[encoded data removed]",
            "text/plain": [
              "<Figure size 864x576 with 1 Axes>"
            ]
          },
          "metadata": {
            "tags": [],
            "needs_background": "light"
          }
        }
      ]
    },
    {
      "cell_type": "markdown",
      "metadata": {
        "id": "FMZtJgz3Y3SX",
        "colab_type": "text"
      },
      "source": [
        "**Количество людей в каждом кластере**"
      ]
    },
    {
      "cell_type": "code",
      "metadata": {
        "id": "p9olYYVKX--2",
        "colab_type": "code",
        "colab": {
          "base_uri": "https://localhost:8080/",
          "height": 333
        },
        "outputId": "c80df73f-a0cf-4ada-d120-c0ca7c0118be"
      },
      "source": [
        "cluster_column = data_no_nan3['Кластер']\n",
        "cluster0 = cluster_column[cluster_column == 0]\n",
        "print('Количество людей в кластере 0: ', cluster0.size)\n",
        "\n",
        "cluster1 = cluster_column[cluster_column == 1]\n",
        "print('Количество людей в кластере 1: ', cluster1.size)\n",
        "\n",
        "cluster2 = cluster_column[cluster_column == 2]\n",
        "print('Количество людей в кластере 2: ', cluster2.size)\n",
        "\n",
        "cluster_column.plot(kind = 'hist')"
      ],
      "execution_count": 10,
      "outputs": [
        {
          "output_type": "stream",
          "text": [
            "Количество людей в кластере 0:  150102\n",
            "Количество людей в кластере 1:  23839\n",
            "Количество людей в кластере 2:  14529\n"
          ],
          "name": "stdout"
        },
        {
          "output_type": "execute_result",
          "data": {
            "text/plain": [
              "<matplotlib.axes._subplots.AxesSubplot at 0x7f5e4efb4e48>"
            ]
          },
          "metadata": {
            "tags": []
          },
          "execution_count": 10
        },
        {
          "output_type": "display_data",
          "data": {
            "image/png": "[encoded data removed]",
            "text/plain": [
              "<Figure size 432x288 with 1 Axes>"
            ]
          },
          "metadata": {
            "tags": [],
            "needs_background": "light"
          }
        }
      ]
    },
    {
      "cell_type": "markdown",
      "metadata": {
        "id": "J24foXpiQBEr",
        "colab_type": "text"
      },
      "source": [
        "**4 кластера**"
      ]
    },
    {
      "cell_type": "code",
      "metadata": {
        "id": "xxW0p5cFzlre",
        "colab_type": "code",
        "colab": {
          "base_uri": "https://localhost:8080/",
          "height": 34
        },
        "outputId": "b14cee9f-3691-4d2d-95b5-81f6d538fae2"
      },
      "source": [
        "clusterNum = 4\n",
        "k_means = KMeans(init = \"k-means++\", n_clusters = clusterNum, n_init = 12) # Способ определения центроид, кол-во кластеров, кол-во итераций алгоритма \n",
        "k_means.fit(data_in_array)\n",
        "labels4 = k_means.labels_\n",
        "print(labels4)"
      ],
      "execution_count": 11,
      "outputs": [
        {
          "output_type": "stream",
          "text": [
            "[3 3 3 ... 3 3 3]\n"
          ],
          "name": "stdout"
        }
      ]
    },
    {
      "cell_type": "markdown",
      "metadata": {
        "id": "kP-QCBCyzwDi",
        "colab_type": "text"
      },
      "source": [
        "Каждому пользователю в таблице присвоили номер кластера"
      ]
    },
    {
      "cell_type": "code",
      "metadata": {
        "id": "OZhau5fa0L69",
        "colab_type": "code",
        "colab": {
          "base_uri": "https://localhost:8080/",
          "height": 289
        },
        "outputId": "8a57d14f-892f-427f-d481-e348e8b38d1a"
      },
      "source": [
        "data_no_nan4 = data_no_nan\n",
        "data_no_nan4[\"Кластер\"] = labels4\n",
        "data_no_nan4.head()"
      ],
      "execution_count": 12,
      "outputs": [
        {
          "output_type": "execute_result",
          "data": {
            "text/html": [
              "<div>\n",
              "<style scoped>\n",
              "    .dataframe tbody tr th:only-of-type {\n",
              "        vertical-align: middle;\n",
              "    }\n",
              "\n",
              "    .dataframe tbody tr th {\n",
              "        vertical-align: top;\n",
              "    }\n",
              "\n",
              "    .dataframe thead th {\n",
              "        text-align: right;\n",
              "    }\n",
              "</style>\n",
              "<table border=\"1\" class=\"dataframe\">\n",
              "  <thead>\n",
              "    <tr style=\"text-align: right;\">\n",
              "      <th></th>\n",
              "      <th>hid</th>\n",
              "      <th>индекс отправителя</th>\n",
              "      <th>индекс получателя</th>\n",
              "      <th>вес (гр)</th>\n",
              "      <th>стоимость (руб,коп)</th>\n",
              "      <th>сумма ОЦ (руб)</th>\n",
              "      <th>сумма НП (руб)</th>\n",
              "      <th>безбланковая отправка</th>\n",
              "      <th>бандероль</th>\n",
              "      <th>ускоренное</th>\n",
              "      <th>международное</th>\n",
              "      <th>с объявл. ценностью</th>\n",
              "      <th>с налож. платежом</th>\n",
              "      <th>с описью вложений</th>\n",
              "      <th>отметка 'Осторожно'</th>\n",
              "      <th>sms для отправителя</th>\n",
              "      <th>sms для получателя</th>\n",
              "      <th>Кластер</th>\n",
              "    </tr>\n",
              "  </thead>\n",
              "  <tbody>\n",
              "    <tr>\n",
              "      <th>0</th>\n",
              "      <td>17279630-2e29-4a0d-8f96-f3c932e6bbcb</td>\n",
              "      <td>109469</td>\n",
              "      <td>107241</td>\n",
              "      <td>100.0</td>\n",
              "      <td>173.0</td>\n",
              "      <td>0.0</td>\n",
              "      <td>0.0</td>\n",
              "      <td>False</td>\n",
              "      <td>False</td>\n",
              "      <td>True</td>\n",
              "      <td>False</td>\n",
              "      <td>False</td>\n",
              "      <td>False</td>\n",
              "      <td>False</td>\n",
              "      <td>0</td>\n",
              "      <td>False</td>\n",
              "      <td>False</td>\n",
              "      <td>3</td>\n",
              "    </tr>\n",
              "    <tr>\n",
              "      <th>1</th>\n",
              "      <td>16971e43-728a-4f66-a93c-3678aa8433cd</td>\n",
              "      <td>390039</td>\n",
              "      <td>125284</td>\n",
              "      <td>1100.0</td>\n",
              "      <td>238.0</td>\n",
              "      <td>0.0</td>\n",
              "      <td>0.0</td>\n",
              "      <td>True</td>\n",
              "      <td>False</td>\n",
              "      <td>False</td>\n",
              "      <td>False</td>\n",
              "      <td>False</td>\n",
              "      <td>False</td>\n",
              "      <td>False</td>\n",
              "      <td>0</td>\n",
              "      <td>False</td>\n",
              "      <td>False</td>\n",
              "      <td>3</td>\n",
              "    </tr>\n",
              "    <tr>\n",
              "      <th>2</th>\n",
              "      <td>16d739fa-ca72-4b12-b8a1-ae5d91df945f</td>\n",
              "      <td>111250</td>\n",
              "      <td>670033</td>\n",
              "      <td>100.0</td>\n",
              "      <td>173.0</td>\n",
              "      <td>0.0</td>\n",
              "      <td>0.0</td>\n",
              "      <td>True</td>\n",
              "      <td>False</td>\n",
              "      <td>True</td>\n",
              "      <td>False</td>\n",
              "      <td>False</td>\n",
              "      <td>False</td>\n",
              "      <td>False</td>\n",
              "      <td>0</td>\n",
              "      <td>False</td>\n",
              "      <td>False</td>\n",
              "      <td>3</td>\n",
              "    </tr>\n",
              "    <tr>\n",
              "      <th>3</th>\n",
              "      <td>8182829</td>\n",
              "      <td>105173</td>\n",
              "      <td>183035</td>\n",
              "      <td>2262.0</td>\n",
              "      <td>363.0</td>\n",
              "      <td>0.0</td>\n",
              "      <td>0.0</td>\n",
              "      <td>False</td>\n",
              "      <td>False</td>\n",
              "      <td>False</td>\n",
              "      <td>False</td>\n",
              "      <td>False</td>\n",
              "      <td>False</td>\n",
              "      <td>False</td>\n",
              "      <td>0</td>\n",
              "      <td>False</td>\n",
              "      <td>False</td>\n",
              "      <td>3</td>\n",
              "    </tr>\n",
              "    <tr>\n",
              "      <th>4</th>\n",
              "      <td>1645b790-f6f9-4c3f-b92b-eae34e781784</td>\n",
              "      <td>195197</td>\n",
              "      <td>184209</td>\n",
              "      <td>1905.0</td>\n",
              "      <td>338.0</td>\n",
              "      <td>0.0</td>\n",
              "      <td>0.0</td>\n",
              "      <td>False</td>\n",
              "      <td>False</td>\n",
              "      <td>False</td>\n",
              "      <td>False</td>\n",
              "      <td>False</td>\n",
              "      <td>False</td>\n",
              "      <td>False</td>\n",
              "      <td>0</td>\n",
              "      <td>False</td>\n",
              "      <td>False</td>\n",
              "      <td>3</td>\n",
              "    </tr>\n",
              "  </tbody>\n",
              "</table>\n",
              "</div>"
            ],
            "text/plain": [
              "                                    hid  ...  Кластер\n",
              "0  17279630-2e29-4a0d-8f96-f3c932e6bbcb  ...        3\n",
              "1  16971e43-728a-4f66-a93c-3678aa8433cd  ...        3\n",
              "2  16d739fa-ca72-4b12-b8a1-ae5d91df945f  ...        3\n",
              "3                               8182829  ...        3\n",
              "4  1645b790-f6f9-4c3f-b92b-eae34e781784  ...        3\n",
              "\n",
              "[5 rows x 18 columns]"
            ]
          },
          "metadata": {
            "tags": []
          },
          "execution_count": 12
        }
      ]
    },
    {
      "cell_type": "code",
      "metadata": {
        "id": "wx_LWcUz0eKe",
        "colab_type": "code",
        "colab": {
          "base_uri": "https://localhost:8080/",
          "height": 204
        },
        "outputId": "c3cd3019-8fc7-43ee-fc4a-c334a3352b6a"
      },
      "source": [
        "data_no_nan4.groupby('Кластер').mean() # Среднее значение для каждого кластера по каждой"
      ],
      "execution_count": 13,
      "outputs": [
        {
          "output_type": "execute_result",
          "data": {
            "text/html": [
              "<div>\n",
              "<style scoped>\n",
              "    .dataframe tbody tr th:only-of-type {\n",
              "        vertical-align: middle;\n",
              "    }\n",
              "\n",
              "    .dataframe tbody tr th {\n",
              "        vertical-align: top;\n",
              "    }\n",
              "\n",
              "    .dataframe thead th {\n",
              "        text-align: right;\n",
              "    }\n",
              "</style>\n",
              "<table border=\"1\" class=\"dataframe\">\n",
              "  <thead>\n",
              "    <tr style=\"text-align: right;\">\n",
              "      <th></th>\n",
              "      <th>индекс отправителя</th>\n",
              "      <th>индекс получателя</th>\n",
              "      <th>вес (гр)</th>\n",
              "      <th>стоимость (руб,коп)</th>\n",
              "      <th>сумма ОЦ (руб)</th>\n",
              "      <th>сумма НП (руб)</th>\n",
              "      <th>безбланковая отправка</th>\n",
              "      <th>ускоренное</th>\n",
              "      <th>международное</th>\n",
              "      <th>с налож. платежом</th>\n",
              "    </tr>\n",
              "    <tr>\n",
              "      <th>Кластер</th>\n",
              "      <th></th>\n",
              "      <th></th>\n",
              "      <th></th>\n",
              "      <th></th>\n",
              "      <th></th>\n",
              "      <th></th>\n",
              "      <th></th>\n",
              "      <th></th>\n",
              "      <th></th>\n",
              "      <th></th>\n",
              "    </tr>\n",
              "  </thead>\n",
              "  <tbody>\n",
              "    <tr>\n",
              "      <th>0</th>\n",
              "      <td>290534.426921</td>\n",
              "      <td>462965.653040</td>\n",
              "      <td>1236.319153</td>\n",
              "      <td>597.243232</td>\n",
              "      <td>5746.073667</td>\n",
              "      <td>5323.317452</td>\n",
              "      <td>0.813862</td>\n",
              "      <td>0.221139</td>\n",
              "      <td>0.0</td>\n",
              "      <td>0.967351</td>\n",
              "    </tr>\n",
              "    <tr>\n",
              "      <th>1</th>\n",
              "      <td>387363.986626</td>\n",
              "      <td>423133.935869</td>\n",
              "      <td>10758.639772</td>\n",
              "      <td>1167.714320</td>\n",
              "      <td>358.522473</td>\n",
              "      <td>71.886538</td>\n",
              "      <td>0.898706</td>\n",
              "      <td>0.000000</td>\n",
              "      <td>0.0</td>\n",
              "      <td>0.025104</td>\n",
              "    </tr>\n",
              "    <tr>\n",
              "      <th>2</th>\n",
              "      <td>368946.844643</td>\n",
              "      <td>407157.387243</td>\n",
              "      <td>4592.601784</td>\n",
              "      <td>553.442020</td>\n",
              "      <td>184.134933</td>\n",
              "      <td>23.773212</td>\n",
              "      <td>0.847864</td>\n",
              "      <td>0.000000</td>\n",
              "      <td>0.0</td>\n",
              "      <td>0.015929</td>\n",
              "    </tr>\n",
              "    <tr>\n",
              "      <th>3</th>\n",
              "      <td>345026.799810</td>\n",
              "      <td>395390.036849</td>\n",
              "      <td>734.864703</td>\n",
              "      <td>296.683232</td>\n",
              "      <td>190.841262</td>\n",
              "      <td>131.284104</td>\n",
              "      <td>0.691781</td>\n",
              "      <td>0.214549</td>\n",
              "      <td>0.0</td>\n",
              "      <td>0.076874</td>\n",
              "    </tr>\n",
              "  </tbody>\n",
              "</table>\n",
              "</div>"
            ],
            "text/plain": [
              "         индекс отправителя  ...  с налож. платежом\n",
              "Кластер                      ...                   \n",
              "0             290534.426921  ...           0.967351\n",
              "1             387363.986626  ...           0.025104\n",
              "2             368946.844643  ...           0.015929\n",
              "3             345026.799810  ...           0.076874\n",
              "\n",
              "[4 rows x 10 columns]"
            ]
          },
          "metadata": {
            "tags": []
          },
          "execution_count": 13
        }
      ]
    },
    {
      "cell_type": "code",
      "metadata": {
        "id": "gC-zM2GocAAg",
        "colab_type": "code",
        "colab": {
          "base_uri": "https://localhost:8080/",
          "height": 350
        },
        "outputId": "e0e4b314-002c-43b7-e520-a0fd76f16dae"
      },
      "source": [
        "cluster_column = data_no_nan4['Кластер']\n",
        "cluster0 = cluster_column[cluster_column == 0]\n",
        "print('Количество людей в кластере 0: ', cluster0.size)\n",
        "\n",
        "cluster1 = cluster_column[cluster_column == 1]\n",
        "print('Количество людей в кластере 1: ', cluster1.size)\n",
        "\n",
        "cluster2 = cluster_column[cluster_column == 2]\n",
        "print('Количество людей в кластере 2: ', cluster2.size)\n",
        "\n",
        "cluster3 = cluster_column[cluster_column == 3]\n",
        "print('Количество людей в кластере 3: ', cluster2.size)\n",
        "\n",
        "cluster_column.plot(kind = 'hist')"
      ],
      "execution_count": 14,
      "outputs": [
        {
          "output_type": "stream",
          "text": [
            "Количество людей в кластере 0:  14457\n",
            "Количество людей в кластере 1:  9122\n",
            "Количество людей в кластере 2:  28251\n",
            "Количество людей в кластере 3:  28251\n"
          ],
          "name": "stdout"
        },
        {
          "output_type": "execute_result",
          "data": {
            "text/plain": [
              "<matplotlib.axes._subplots.AxesSubplot at 0x7f5e4ea8f710>"
            ]
          },
          "metadata": {
            "tags": []
          },
          "execution_count": 14
        },
        {
          "output_type": "display_data",
          "data": {
            "image/png": "[encoded data removed]",
            "text/plain": [
              "<Figure size 432x288 with 1 Axes>"
            ]
          },
          "metadata": {
            "tags": [],
            "needs_background": "light"
          }
        }
      ]
    },
    {
      "cell_type": "markdown",
      "metadata": {
        "id": "Scqlx-5tQHGG",
        "colab_type": "text"
      },
      "source": [
        "**5 кластеров**"
      ]
    },
    {
      "cell_type": "code",
      "metadata": {
        "id": "j9UC9VrL9Pqd",
        "colab_type": "code",
        "colab": {
          "base_uri": "https://localhost:8080/",
          "height": 34
        },
        "outputId": "d860f1b4-1c24-416a-9bd4-c3c99672d252"
      },
      "source": [
        "clusterNum = 5\n",
        "k_means = KMeans(init = \"k-means++\", n_clusters = clusterNum, n_init = 12) # Способ определения центроид, кол-во кластеров, кол-во итераций алгоритма \n",
        "k_means.fit(data_in_array)\n",
        "labels5 = k_means.labels_\n",
        "print(labels5)"
      ],
      "execution_count": 15,
      "outputs": [
        {
          "output_type": "stream",
          "text": [
            "[0 0 0 ... 0 0 0]\n"
          ],
          "name": "stdout"
        }
      ]
    },
    {
      "cell_type": "markdown",
      "metadata": {
        "id": "Vlm6NSJy9Xfl",
        "colab_type": "text"
      },
      "source": [
        "Каждому пользователю в таблице присвоили номер кластера"
      ]
    },
    {
      "cell_type": "code",
      "metadata": {
        "id": "Ou2qwySp9bJh",
        "colab_type": "code",
        "colab": {
          "base_uri": "https://localhost:8080/",
          "height": 198
        },
        "outputId": "6b59a098-9948-44a2-dabd-6d517be7af51"
      },
      "source": [
        "data_no_nan5 = data_no_nan\n",
        "data_no_nan5[\"Кластер\"] = labels\n",
        "data_no_nan5.head()"
      ],
      "execution_count": 16,
      "outputs": [
        {
          "output_type": "error",
          "ename": "NameError",
          "evalue": "ignored",
          "traceback": [
            "\u001b[0;31m---------------------------------------------------------------------------\u001b[0m",
            "\u001b[0;31mNameError\u001b[0m                                 Traceback (most recent call last)",
            "\u001b[0;32m<ipython-input-16-7330daaa51a7>\u001b[0m in \u001b[0;36m<module>\u001b[0;34m()\u001b[0m\n\u001b[1;32m      1\u001b[0m \u001b[0mdata_no_nan5\u001b[0m \u001b[0;34m=\u001b[0m \u001b[0mdata_no_nan\u001b[0m\u001b[0;34m\u001b[0m\u001b[0;34m\u001b[0m\u001b[0m\n\u001b[0;32m----> 2\u001b[0;31m \u001b[0mdata_no_nan5\u001b[0m\u001b[0;34m[\u001b[0m\u001b[0;34m\"Кластер\"\u001b[0m\u001b[0;34m]\u001b[0m \u001b[0;34m=\u001b[0m \u001b[0mlabels\u001b[0m\u001b[0;34m\u001b[0m\u001b[0;34m\u001b[0m\u001b[0m\n\u001b[0m\u001b[1;32m      3\u001b[0m \u001b[0mdata_no_nan5\u001b[0m\u001b[0;34m.\u001b[0m\u001b[0mhead\u001b[0m\u001b[0;34m(\u001b[0m\u001b[0;34m)\u001b[0m\u001b[0;34m\u001b[0m\u001b[0;34m\u001b[0m\u001b[0m\n",
            "\u001b[0;31mNameError\u001b[0m: name 'labels' is not defined"
          ]
        }
      ]
    },
    {
      "cell_type": "code",
      "metadata": {
        "id": "rYN6vPtz9hJ0",
        "colab_type": "code",
        "colab": {}
      },
      "source": [
        "data_no_nan5.groupby('Кластер').mean()"
      ],
      "execution_count": null,
      "outputs": []
    },
    {
      "cell_type": "code",
      "metadata": {
        "id": "zVh5h-kyd1Dh",
        "colab_type": "code",
        "colab": {}
      },
      "source": [
        "cluster_column = data_no_nan5['Кластер']\n",
        "cluster0 = cluster_column[cluster_column == 0]\n",
        "print('Количество людей в кластере 0: ', cluster0.size)\n",
        "\n",
        "cluster1 = cluster_column[cluster_column == 1]\n",
        "print('Количество людей в кластере 1: ', cluster1.size)\n",
        "\n",
        "cluster2 = cluster_column[cluster_column == 2]\n",
        "print('Количество людей в кластере 2: ', cluster2.size)\n",
        "\n",
        "cluster3 = cluster_column[cluster_column == 3]\n",
        "print('Количество людей в кластере 3: ', cluster2.size)\n",
        "\n",
        "cluster3 = cluster_column[cluster_column == 4]\n",
        "print('Количество людей в кластере 3: ', cluster2.size)\n",
        "\n",
        "cluster_column.plot(kind = 'hist')"
      ],
      "execution_count": null,
      "outputs": []
    },
    {
      "cell_type": "markdown",
      "metadata": {
        "id": "QDGH0deMPzV2",
        "colab_type": "text"
      },
      "source": [
        "**Выявление корреляции между определёнными признаками**"
      ]
    },
    {
      "cell_type": "markdown",
      "metadata": {
        "id": "ZzDxpXJaZi_S",
        "colab_type": "text"
      },
      "source": [
        "Для третьего кластера явно выделяется взаимосвязь стоимости, суммы ОЦ и суммы НП, без бланков отправляет меньше, чаще ускоренное - возможно он предприниматель "
      ]
    },
    {
      "cell_type": "code",
      "metadata": {
        "id": "G1LxPqRPRuOE",
        "colab_type": "code",
        "colab": {}
      },
      "source": [
        "HID_str = \"hid\"\n",
        "OC_str = \"с объявл. ценностью\"\n",
        "NP_str = \"с налож. платежом\"\n",
        "OP_str = \"с описью вложений\"\n",
        "SMS_snd_str = \"sms для отправителя\"\n",
        "SMS_rcv_str = \"sms для получателя\"\n",
        "\n",
        "with_OC_arr = data_no_nan[OC_str]                   # Получили значения по столбцу OC\n",
        "with_OC_arr_true = with_OC_arr[with_OC_arr == True] # Получили значения по столбцу ОС, равному TRUE\n",
        "print(with_OC_arr_true.size) #48477\n",
        "\n",
        "with_OP_arr = data_no_nan[OP_str]\n",
        "with_OP_arr_true = with_OP_arr[with_OP_arr == True] # Все, кто отправляет с описью вложений  \n",
        "print(with_OP_arr_true.size) \n",
        "\n",
        "with_NP_arr = data_no_nan[NP_str]\n",
        "with_NP_arr_true = with_NP_arr[with_NP_arr == True] # Все, кто отправляет с наложенным платежом\n",
        "print(with_NP_arr_true.size) \n",
        "\n",
        "with_snd_arr = data_no_nan[SMS_snd_str]\n",
        "with_snd_arr_true = with_snd_arr[with_snd_arr == True] # Все, кто отправляет с смс для отправителя\n",
        "print(with_snd_arr_true.size) \n",
        "\n",
        "with_rcv_arr = data_no_nan[[SMS_rcv_str]]\n",
        "with_rcv_arr_true = with_rcv_arr[with_rcv_arr == True] # Все, кто отправляет с смс для получателя\n",
        "print(with_rcv_arr_true.size) \n",
        "\n",
        "with_NP_arr_true == with_rcv_arr_true"
      ],
      "execution_count": null,
      "outputs": []
    },
    {
      "cell_type": "markdown",
      "metadata": {
        "id": "DtyyILtttMBb",
        "colab_type": "text"
      },
      "source": [
        "Мы сейчас проверяем гипотезу такую, кто отправляет НП (а значит и ОЦ) и СМС для получателя - предприниматель. Найдём корреляцию между столбцами\n"
      ]
    },
    {
      "cell_type": "markdown",
      "metadata": {
        "id": "rIpxHL4AaOnS",
        "colab_type": "text"
      },
      "source": [
        "**legacy**"
      ]
    },
    {
      "cell_type": "code",
      "metadata": {
        "id": "rmCyZ9Pw-uk7",
        "colab_type": "code",
        "colab": {}
      },
      "source": [
        "import matplotlib.pyplot as plt\n",
        "import numpy as np\n",
        "data_no_nan[['hid', 'Кластер']].plot(kind='scatter', x='hid', y='Кластер', figsize=(12,8))"
      ],
      "execution_count": null,
      "outputs": []
    }
  ]
}